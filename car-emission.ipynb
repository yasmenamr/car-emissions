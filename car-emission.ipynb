{
 "cells": [
  {
   "cell_type": "markdown",
   "metadata": {},
   "source": [
    " <h1><center>Car emission prediction</center></h1>"
   ]
  },
  {
   "cell_type": "markdown",
   "metadata": {},
   "source": [
    "This dataset contains car emissions data for UK, which includes over 5,000 vehicles and their Emissions of August 2017.\n",
    "![Cars](https://images.unsplash.com/photo-1492144534655-ae79c964c9d7?ixlib=rb-1.2.1&ixid=eyJhcHBfaWQiOjEyMDd9&w=1000&q=80)\n",
    "[source](https://www.kaggle.com/dananos/car-emissions-data)"
   ]
  },
  {
   "cell_type": "code",
   "execution_count": 735,
   "metadata": {},
   "outputs": [],
   "source": [
    "# import first\n",
    "import pandas as pd\n",
    "import matplotlib.pyplot as plt\n",
    "import numpy as np\n",
    "import seaborn as sns\n",
    "# change the style from the very beging\n",
    "plt.style.use('ggplot')\n",
    "%matplotlib inline\n"
   ]
  },
  {
   "cell_type": "markdown",
   "metadata": {},
   "source": [
    "### First let's import our dataset and take a look to it."
   ]
  },
  {
   "cell_type": "code",
   "execution_count": 736,
   "metadata": {},
   "outputs": [
    {
     "data": {
      "text/html": [
       "<div>\n",
       "<style scoped>\n",
       "    .dataframe tbody tr th:only-of-type {\n",
       "        vertical-align: middle;\n",
       "    }\n",
       "\n",
       "    .dataframe tbody tr th {\n",
       "        vertical-align: top;\n",
       "    }\n",
       "\n",
       "    .dataframe thead th {\n",
       "        text-align: right;\n",
       "    }\n",
       "</style>\n",
       "<table border=\"1\" class=\"dataframe\">\n",
       "  <thead>\n",
       "    <tr style=\"text-align: right;\">\n",
       "      <th></th>\n",
       "      <th>Manufacturer</th>\n",
       "      <th>Model</th>\n",
       "      <th>Description</th>\n",
       "      <th>Transmission</th>\n",
       "      <th>Engine Capacity</th>\n",
       "      <th>Fuel Type</th>\n",
       "      <th>Electric energy consumption Miles/kWh</th>\n",
       "      <th>wh/km</th>\n",
       "      <th>Maximum range (Km)</th>\n",
       "      <th>Maximum range (Miles)</th>\n",
       "      <th>...</th>\n",
       "      <th>Emissions NOx [mg/km]</th>\n",
       "      <th>THC + NOx Emissions [mg/km]</th>\n",
       "      <th>Particulates [No.] [mg/km]</th>\n",
       "      <th>Unnamed: 27</th>\n",
       "      <th>Unnamed: 28</th>\n",
       "      <th>Unnamed: 29</th>\n",
       "      <th>Unnamed: 30</th>\n",
       "      <th>Unnamed: 31</th>\n",
       "      <th>Unnamed: 32</th>\n",
       "      <th>Unnamed: 33</th>\n",
       "    </tr>\n",
       "  </thead>\n",
       "  <tbody>\n",
       "    <tr>\n",
       "      <td>0</td>\n",
       "      <td>ALFA ROMEO</td>\n",
       "      <td>MiTo Series 3, September 2016 Onwards</td>\n",
       "      <td>1.3 JTDm-2 95 bhp</td>\n",
       "      <td>M5</td>\n",
       "      <td>1248.0</td>\n",
       "      <td>Diesel</td>\n",
       "      <td>NaN</td>\n",
       "      <td>NaN</td>\n",
       "      <td>NaN</td>\n",
       "      <td>NaN</td>\n",
       "      <td>...</td>\n",
       "      <td>67.0</td>\n",
       "      <td>100.0</td>\n",
       "      <td>0.27</td>\n",
       "      <td>NaN</td>\n",
       "      <td>NaN</td>\n",
       "      <td>NaN</td>\n",
       "      <td>NaN</td>\n",
       "      <td>NaN</td>\n",
       "      <td>NaN</td>\n",
       "      <td>NaN</td>\n",
       "    </tr>\n",
       "    <tr>\n",
       "      <td>1</td>\n",
       "      <td>BMW</td>\n",
       "      <td>1 Series 3-door F21, From September 2012</td>\n",
       "      <td>116d ED Plus 16'' tyres</td>\n",
       "      <td>M6</td>\n",
       "      <td>1496.0</td>\n",
       "      <td>Diesel</td>\n",
       "      <td>NaN</td>\n",
       "      <td>NaN</td>\n",
       "      <td>NaN</td>\n",
       "      <td>NaN</td>\n",
       "      <td>...</td>\n",
       "      <td>37.0</td>\n",
       "      <td>66.0</td>\n",
       "      <td>0.14</td>\n",
       "      <td>NaN</td>\n",
       "      <td>NaN</td>\n",
       "      <td>NaN</td>\n",
       "      <td>NaN</td>\n",
       "      <td>NaN</td>\n",
       "      <td>NaN</td>\n",
       "      <td>NaN</td>\n",
       "    </tr>\n",
       "    <tr>\n",
       "      <td>2</td>\n",
       "      <td>BMW</td>\n",
       "      <td>1 Series 5-door F20, From September 2011</td>\n",
       "      <td>116d ED Plus 16'' tyres</td>\n",
       "      <td>M6</td>\n",
       "      <td>1496.0</td>\n",
       "      <td>Diesel</td>\n",
       "      <td>NaN</td>\n",
       "      <td>NaN</td>\n",
       "      <td>NaN</td>\n",
       "      <td>NaN</td>\n",
       "      <td>...</td>\n",
       "      <td>37.0</td>\n",
       "      <td>66.0</td>\n",
       "      <td>0.14</td>\n",
       "      <td>NaN</td>\n",
       "      <td>NaN</td>\n",
       "      <td>NaN</td>\n",
       "      <td>NaN</td>\n",
       "      <td>NaN</td>\n",
       "      <td>NaN</td>\n",
       "      <td>NaN</td>\n",
       "    </tr>\n",
       "    <tr>\n",
       "      <td>3</td>\n",
       "      <td>CITROEN</td>\n",
       "      <td>C4</td>\n",
       "      <td>BlueHDi 100 S&amp;S</td>\n",
       "      <td>M5</td>\n",
       "      <td>1560.0</td>\n",
       "      <td>Diesel</td>\n",
       "      <td>NaN</td>\n",
       "      <td>NaN</td>\n",
       "      <td>NaN</td>\n",
       "      <td>NaN</td>\n",
       "      <td>...</td>\n",
       "      <td>55.0</td>\n",
       "      <td>74.0</td>\n",
       "      <td>0.42</td>\n",
       "      <td>NaN</td>\n",
       "      <td>NaN</td>\n",
       "      <td>NaN</td>\n",
       "      <td>NaN</td>\n",
       "      <td>NaN</td>\n",
       "      <td>NaN</td>\n",
       "      <td>NaN</td>\n",
       "    </tr>\n",
       "    <tr>\n",
       "      <td>4</td>\n",
       "      <td>CITROEN</td>\n",
       "      <td>C4 Cactus</td>\n",
       "      <td>BlueHDi 100 S&amp;S ETG6</td>\n",
       "      <td>AMT6</td>\n",
       "      <td>1560.0</td>\n",
       "      <td>Diesel</td>\n",
       "      <td>NaN</td>\n",
       "      <td>NaN</td>\n",
       "      <td>NaN</td>\n",
       "      <td>NaN</td>\n",
       "      <td>...</td>\n",
       "      <td>40.0</td>\n",
       "      <td>53.0</td>\n",
       "      <td>0.03</td>\n",
       "      <td>NaN</td>\n",
       "      <td>NaN</td>\n",
       "      <td>NaN</td>\n",
       "      <td>NaN</td>\n",
       "      <td>NaN</td>\n",
       "      <td>NaN</td>\n",
       "      <td>NaN</td>\n",
       "    </tr>\n",
       "  </tbody>\n",
       "</table>\n",
       "<p>5 rows × 34 columns</p>\n",
       "</div>"
      ],
      "text/plain": [
       "  Manufacturer                                     Model  \\\n",
       "0   ALFA ROMEO     MiTo Series 3, September 2016 Onwards   \n",
       "1          BMW  1 Series 3-door F21, From September 2012   \n",
       "2          BMW  1 Series 5-door F20, From September 2011   \n",
       "3      CITROEN                                        C4   \n",
       "4      CITROEN                                 C4 Cactus   \n",
       "\n",
       "               Description Transmission  Engine Capacity Fuel Type  \\\n",
       "0        1.3 JTDm-2 95 bhp           M5           1248.0    Diesel   \n",
       "1  116d ED Plus 16'' tyres           M6           1496.0    Diesel   \n",
       "2  116d ED Plus 16'' tyres           M6           1496.0    Diesel   \n",
       "3          BlueHDi 100 S&S           M5           1560.0    Diesel   \n",
       "4     BlueHDi 100 S&S ETG6         AMT6           1560.0    Diesel   \n",
       "\n",
       "   Electric energy consumption Miles/kWh  wh/km  Maximum range (Km)  \\\n",
       "0                                    NaN    NaN                 NaN   \n",
       "1                                    NaN    NaN                 NaN   \n",
       "2                                    NaN    NaN                 NaN   \n",
       "3                                    NaN    NaN                 NaN   \n",
       "4                                    NaN    NaN                 NaN   \n",
       "\n",
       "   Maximum range (Miles)  ...  Emissions NOx [mg/km]  \\\n",
       "0                    NaN  ...                   67.0   \n",
       "1                    NaN  ...                   37.0   \n",
       "2                    NaN  ...                   37.0   \n",
       "3                    NaN  ...                   55.0   \n",
       "4                    NaN  ...                   40.0   \n",
       "\n",
       "   THC + NOx Emissions [mg/km]  Particulates [No.] [mg/km]  Unnamed: 27  \\\n",
       "0                        100.0                        0.27          NaN   \n",
       "1                         66.0                        0.14          NaN   \n",
       "2                         66.0                        0.14          NaN   \n",
       "3                         74.0                        0.42          NaN   \n",
       "4                         53.0                        0.03          NaN   \n",
       "\n",
       "   Unnamed: 28  Unnamed: 29  Unnamed: 30 Unnamed: 31 Unnamed: 32 Unnamed: 33  \n",
       "0          NaN          NaN          NaN         NaN         NaN         NaN  \n",
       "1          NaN          NaN          NaN         NaN         NaN         NaN  \n",
       "2          NaN          NaN          NaN         NaN         NaN         NaN  \n",
       "3          NaN          NaN          NaN         NaN         NaN         NaN  \n",
       "4          NaN          NaN          NaN         NaN         NaN         NaN  \n",
       "\n",
       "[5 rows x 34 columns]"
      ]
     },
     "execution_count": 736,
     "metadata": {},
     "output_type": "execute_result"
    }
   ],
   "source": [
    "dataset = pd.read_csv(\"data.csv\",encoding='latin')\n",
    "dataset.head()"
   ]
  },
  {
   "cell_type": "code",
   "execution_count": 737,
   "metadata": {},
   "outputs": [
    {
     "data": {
      "text/plain": [
       "Manufacturer                              object\n",
       "Model                                     object\n",
       "Description                               object\n",
       "Transmission                              object\n",
       "Engine Capacity                          float64\n",
       "Fuel Type                                 object\n",
       "Electric energy consumption Miles/kWh    float64\n",
       "wh/km                                    float64\n",
       "Maximum range (Km)                       float64\n",
       "Maximum range (Miles)                    float64\n",
       "Metric Urban (Cold)                      float64\n",
       "Metric Extra-Urban                       float64\n",
       "Metric Combined                          float64\n",
       "Imperial Urban (Cold)                    float64\n",
       "Imperial Extra-Urban                     float64\n",
       "Imperial Combined                        float64\n",
       "CO2 g/km                                   int64\n",
       "Fuel Cost 12000 Miles                     object\n",
       "Electricity cost                          object\n",
       "Total cost / 12000 miles                  object\n",
       "Euro Standard                              int64\n",
       "Noise Level dB(A)                        float64\n",
       "Emissions CO [mg/km]                     float64\n",
       "THC Emissions [mg/km]                    float64\n",
       "Emissions NOx [mg/km]                    float64\n",
       "THC + NOx Emissions [mg/km]              float64\n",
       "Particulates [No.] [mg/km]               float64\n",
       "Unnamed: 27                              float64\n",
       "Unnamed: 28                              float64\n",
       "Unnamed: 29                              float64\n",
       "Unnamed: 30                              float64\n",
       "Unnamed: 31                              float64\n",
       "Unnamed: 32                              float64\n",
       "Unnamed: 33                              float64\n",
       "dtype: object"
      ]
     },
     "execution_count": 737,
     "metadata": {},
     "output_type": "execute_result"
    }
   ],
   "source": [
    "dataset.dtypes"
   ]
  },
  {
   "cell_type": "code",
   "execution_count": 738,
   "metadata": {},
   "outputs": [
    {
     "data": {
      "text/plain": [
       "Manufacturer                                0\n",
       "Model                                       0\n",
       "Description                                 0\n",
       "Transmission                               32\n",
       "Engine Capacity                            30\n",
       "Fuel Type                                   0\n",
       "Electric energy consumption Miles/kWh    5037\n",
       "wh/km                                    5037\n",
       "Maximum range (Km)                       5037\n",
       "Maximum range (Miles)                    5037\n",
       "Metric Urban (Cold)                        81\n",
       "Metric Extra-Urban                         81\n",
       "Metric Combined                            30\n",
       "Imperial Urban (Cold)                      81\n",
       "Imperial Extra-Urban                       81\n",
       "Imperial Combined                          30\n",
       "CO2 g/km                                    0\n",
       "Fuel Cost 12000 Miles                      30\n",
       "Electricity cost                         5037\n",
       "Total cost / 12000 miles                    0\n",
       "Euro Standard                               0\n",
       "Noise Level dB(A)                           0\n",
       "Emissions CO [mg/km]                       30\n",
       "THC Emissions [mg/km]                    2611\n",
       "Emissions NOx [mg/km]                      30\n",
       "THC + NOx Emissions [mg/km]              2536\n",
       "Particulates [No.] [mg/km]               2529\n",
       "Unnamed: 27                              5118\n",
       "Unnamed: 28                              5118\n",
       "Unnamed: 29                              5118\n",
       "Unnamed: 30                              5118\n",
       "Unnamed: 31                              5118\n",
       "Unnamed: 32                              5118\n",
       "Unnamed: 33                              5118\n",
       "dtype: int64"
      ]
     },
     "execution_count": 738,
     "metadata": {},
     "output_type": "execute_result"
    }
   ],
   "source": [
    "dataset.isna().sum()"
   ]
  },
  {
   "cell_type": "code",
   "execution_count": 739,
   "metadata": {},
   "outputs": [
    {
     "data": {
      "text/html": [
       "<div>\n",
       "<style scoped>\n",
       "    .dataframe tbody tr th:only-of-type {\n",
       "        vertical-align: middle;\n",
       "    }\n",
       "\n",
       "    .dataframe tbody tr th {\n",
       "        vertical-align: top;\n",
       "    }\n",
       "\n",
       "    .dataframe thead th {\n",
       "        text-align: right;\n",
       "    }\n",
       "</style>\n",
       "<table border=\"1\" class=\"dataframe\">\n",
       "  <thead>\n",
       "    <tr style=\"text-align: right;\">\n",
       "      <th></th>\n",
       "      <th>Engine Capacity</th>\n",
       "      <th>Electric energy consumption Miles/kWh</th>\n",
       "      <th>wh/km</th>\n",
       "      <th>Maximum range (Km)</th>\n",
       "      <th>Maximum range (Miles)</th>\n",
       "      <th>Metric Urban (Cold)</th>\n",
       "      <th>Metric Extra-Urban</th>\n",
       "      <th>Metric Combined</th>\n",
       "      <th>Imperial Urban (Cold)</th>\n",
       "      <th>Imperial Extra-Urban</th>\n",
       "      <th>...</th>\n",
       "      <th>Emissions NOx [mg/km]</th>\n",
       "      <th>THC + NOx Emissions [mg/km]</th>\n",
       "      <th>Particulates [No.] [mg/km]</th>\n",
       "      <th>Unnamed: 27</th>\n",
       "      <th>Unnamed: 28</th>\n",
       "      <th>Unnamed: 29</th>\n",
       "      <th>Unnamed: 30</th>\n",
       "      <th>Unnamed: 31</th>\n",
       "      <th>Unnamed: 32</th>\n",
       "      <th>Unnamed: 33</th>\n",
       "    </tr>\n",
       "  </thead>\n",
       "  <tbody>\n",
       "    <tr>\n",
       "      <td>count</td>\n",
       "      <td>5088.000000</td>\n",
       "      <td>81.000000</td>\n",
       "      <td>81.000000</td>\n",
       "      <td>81.000000</td>\n",
       "      <td>81.000000</td>\n",
       "      <td>5037.000000</td>\n",
       "      <td>5037.000000</td>\n",
       "      <td>5088.000000</td>\n",
       "      <td>5037.000000</td>\n",
       "      <td>5037.000000</td>\n",
       "      <td>...</td>\n",
       "      <td>5088.000000</td>\n",
       "      <td>2582.000000</td>\n",
       "      <td>2589.000000</td>\n",
       "      <td>0.0</td>\n",
       "      <td>0.0</td>\n",
       "      <td>0.0</td>\n",
       "      <td>0.0</td>\n",
       "      <td>0.0</td>\n",
       "      <td>0.0</td>\n",
       "      <td>0.0</td>\n",
       "    </tr>\n",
       "    <tr>\n",
       "      <td>mean</td>\n",
       "      <td>1986.814465</td>\n",
       "      <td>8.002469</td>\n",
       "      <td>137.864198</td>\n",
       "      <td>169.580247</td>\n",
       "      <td>105.246914</td>\n",
       "      <td>6.905182</td>\n",
       "      <td>4.805579</td>\n",
       "      <td>5.544929</td>\n",
       "      <td>45.362220</td>\n",
       "      <td>61.687314</td>\n",
       "      <td>...</td>\n",
       "      <td>37.200865</td>\n",
       "      <td>79.331526</td>\n",
       "      <td>0.316748</td>\n",
       "      <td>NaN</td>\n",
       "      <td>NaN</td>\n",
       "      <td>NaN</td>\n",
       "      <td>NaN</td>\n",
       "      <td>NaN</td>\n",
       "      <td>NaN</td>\n",
       "      <td>NaN</td>\n",
       "    </tr>\n",
       "    <tr>\n",
       "      <td>std</td>\n",
       "      <td>806.608051</td>\n",
       "      <td>12.046514</td>\n",
       "      <td>54.757135</td>\n",
       "      <td>184.336368</td>\n",
       "      <td>114.566087</td>\n",
       "      <td>2.760090</td>\n",
       "      <td>1.214175</td>\n",
       "      <td>1.776506</td>\n",
       "      <td>12.862403</td>\n",
       "      <td>12.615114</td>\n",
       "      <td>...</td>\n",
       "      <td>21.062978</td>\n",
       "      <td>22.137153</td>\n",
       "      <td>0.340874</td>\n",
       "      <td>NaN</td>\n",
       "      <td>NaN</td>\n",
       "      <td>NaN</td>\n",
       "      <td>NaN</td>\n",
       "      <td>NaN</td>\n",
       "      <td>NaN</td>\n",
       "      <td>NaN</td>\n",
       "    </tr>\n",
       "    <tr>\n",
       "      <td>min</td>\n",
       "      <td>647.000000</td>\n",
       "      <td>2.300000</td>\n",
       "      <td>11.000000</td>\n",
       "      <td>30.000000</td>\n",
       "      <td>18.000000</td>\n",
       "      <td>0.000000</td>\n",
       "      <td>0.000000</td>\n",
       "      <td>0.600000</td>\n",
       "      <td>0.000000</td>\n",
       "      <td>0.000000</td>\n",
       "      <td>...</td>\n",
       "      <td>1.000000</td>\n",
       "      <td>19.000000</td>\n",
       "      <td>0.000000</td>\n",
       "      <td>NaN</td>\n",
       "      <td>NaN</td>\n",
       "      <td>NaN</td>\n",
       "      <td>NaN</td>\n",
       "      <td>NaN</td>\n",
       "      <td>NaN</td>\n",
       "      <td>NaN</td>\n",
       "    </tr>\n",
       "    <tr>\n",
       "      <td>25%</td>\n",
       "      <td>1499.000000</td>\n",
       "      <td>3.400000</td>\n",
       "      <td>117.000000</td>\n",
       "      <td>39.000000</td>\n",
       "      <td>24.000000</td>\n",
       "      <td>5.200000</td>\n",
       "      <td>4.000000</td>\n",
       "      <td>4.400000</td>\n",
       "      <td>36.700000</td>\n",
       "      <td>53.300000</td>\n",
       "      <td>...</td>\n",
       "      <td>22.000000</td>\n",
       "      <td>67.000000</td>\n",
       "      <td>0.060000</td>\n",
       "      <td>NaN</td>\n",
       "      <td>NaN</td>\n",
       "      <td>NaN</td>\n",
       "      <td>NaN</td>\n",
       "      <td>NaN</td>\n",
       "      <td>NaN</td>\n",
       "      <td>NaN</td>\n",
       "    </tr>\n",
       "    <tr>\n",
       "      <td>50%</td>\n",
       "      <td>1968.000000</td>\n",
       "      <td>4.700000</td>\n",
       "      <td>132.000000</td>\n",
       "      <td>50.000000</td>\n",
       "      <td>31.000000</td>\n",
       "      <td>6.100000</td>\n",
       "      <td>4.500000</td>\n",
       "      <td>5.100000</td>\n",
       "      <td>46.300000</td>\n",
       "      <td>62.800000</td>\n",
       "      <td>...</td>\n",
       "      <td>35.000000</td>\n",
       "      <td>79.000000</td>\n",
       "      <td>0.200000</td>\n",
       "      <td>NaN</td>\n",
       "      <td>NaN</td>\n",
       "      <td>NaN</td>\n",
       "      <td>NaN</td>\n",
       "      <td>NaN</td>\n",
       "      <td>NaN</td>\n",
       "      <td>NaN</td>\n",
       "    </tr>\n",
       "    <tr>\n",
       "      <td>75%</td>\n",
       "      <td>1998.000000</td>\n",
       "      <td>5.300000</td>\n",
       "      <td>185.000000</td>\n",
       "      <td>280.000000</td>\n",
       "      <td>174.000000</td>\n",
       "      <td>7.700000</td>\n",
       "      <td>5.300000</td>\n",
       "      <td>6.100000</td>\n",
       "      <td>54.300000</td>\n",
       "      <td>70.600000</td>\n",
       "      <td>...</td>\n",
       "      <td>51.000000</td>\n",
       "      <td>93.000000</td>\n",
       "      <td>0.490000</td>\n",
       "      <td>NaN</td>\n",
       "      <td>NaN</td>\n",
       "      <td>NaN</td>\n",
       "      <td>NaN</td>\n",
       "      <td>NaN</td>\n",
       "      <td>NaN</td>\n",
       "      <td>NaN</td>\n",
       "    </tr>\n",
       "    <tr>\n",
       "      <td>max</td>\n",
       "      <td>6752.000000</td>\n",
       "      <td>56.500000</td>\n",
       "      <td>269.000000</td>\n",
       "      <td>632.000000</td>\n",
       "      <td>393.000000</td>\n",
       "      <td>25.600000</td>\n",
       "      <td>12.100000</td>\n",
       "      <td>17.000000</td>\n",
       "      <td>97.400000</td>\n",
       "      <td>104.600000</td>\n",
       "      <td>...</td>\n",
       "      <td>726.000000</td>\n",
       "      <td>154.000000</td>\n",
       "      <td>3.050000</td>\n",
       "      <td>NaN</td>\n",
       "      <td>NaN</td>\n",
       "      <td>NaN</td>\n",
       "      <td>NaN</td>\n",
       "      <td>NaN</td>\n",
       "      <td>NaN</td>\n",
       "      <td>NaN</td>\n",
       "    </tr>\n",
       "  </tbody>\n",
       "</table>\n",
       "<p>8 rows × 26 columns</p>\n",
       "</div>"
      ],
      "text/plain": [
       "       Engine Capacity  Electric energy consumption Miles/kWh       wh/km  \\\n",
       "count      5088.000000                              81.000000   81.000000   \n",
       "mean       1986.814465                               8.002469  137.864198   \n",
       "std         806.608051                              12.046514   54.757135   \n",
       "min         647.000000                               2.300000   11.000000   \n",
       "25%        1499.000000                               3.400000  117.000000   \n",
       "50%        1968.000000                               4.700000  132.000000   \n",
       "75%        1998.000000                               5.300000  185.000000   \n",
       "max        6752.000000                              56.500000  269.000000   \n",
       "\n",
       "       Maximum range (Km)  Maximum range (Miles)  Metric Urban (Cold)  \\\n",
       "count           81.000000              81.000000          5037.000000   \n",
       "mean           169.580247             105.246914             6.905182   \n",
       "std            184.336368             114.566087             2.760090   \n",
       "min             30.000000              18.000000             0.000000   \n",
       "25%             39.000000              24.000000             5.200000   \n",
       "50%             50.000000              31.000000             6.100000   \n",
       "75%            280.000000             174.000000             7.700000   \n",
       "max            632.000000             393.000000            25.600000   \n",
       "\n",
       "       Metric Extra-Urban  Metric Combined  Imperial Urban (Cold)  \\\n",
       "count         5037.000000      5088.000000            5037.000000   \n",
       "mean             4.805579         5.544929              45.362220   \n",
       "std              1.214175         1.776506              12.862403   \n",
       "min              0.000000         0.600000               0.000000   \n",
       "25%              4.000000         4.400000              36.700000   \n",
       "50%              4.500000         5.100000              46.300000   \n",
       "75%              5.300000         6.100000              54.300000   \n",
       "max             12.100000        17.000000              97.400000   \n",
       "\n",
       "       Imperial Extra-Urban  ...  Emissions NOx [mg/km]  \\\n",
       "count           5037.000000  ...            5088.000000   \n",
       "mean              61.687314  ...              37.200865   \n",
       "std               12.615114  ...              21.062978   \n",
       "min                0.000000  ...               1.000000   \n",
       "25%               53.300000  ...              22.000000   \n",
       "50%               62.800000  ...              35.000000   \n",
       "75%               70.600000  ...              51.000000   \n",
       "max              104.600000  ...             726.000000   \n",
       "\n",
       "       THC + NOx Emissions [mg/km]  Particulates [No.] [mg/km]  Unnamed: 27  \\\n",
       "count                  2582.000000                 2589.000000          0.0   \n",
       "mean                     79.331526                    0.316748          NaN   \n",
       "std                      22.137153                    0.340874          NaN   \n",
       "min                      19.000000                    0.000000          NaN   \n",
       "25%                      67.000000                    0.060000          NaN   \n",
       "50%                      79.000000                    0.200000          NaN   \n",
       "75%                      93.000000                    0.490000          NaN   \n",
       "max                     154.000000                    3.050000          NaN   \n",
       "\n",
       "       Unnamed: 28  Unnamed: 29  Unnamed: 30  Unnamed: 31  Unnamed: 32  \\\n",
       "count          0.0          0.0          0.0          0.0          0.0   \n",
       "mean           NaN          NaN          NaN          NaN          NaN   \n",
       "std            NaN          NaN          NaN          NaN          NaN   \n",
       "min            NaN          NaN          NaN          NaN          NaN   \n",
       "25%            NaN          NaN          NaN          NaN          NaN   \n",
       "50%            NaN          NaN          NaN          NaN          NaN   \n",
       "75%            NaN          NaN          NaN          NaN          NaN   \n",
       "max            NaN          NaN          NaN          NaN          NaN   \n",
       "\n",
       "       Unnamed: 33  \n",
       "count          0.0  \n",
       "mean           NaN  \n",
       "std            NaN  \n",
       "min            NaN  \n",
       "25%            NaN  \n",
       "50%            NaN  \n",
       "75%            NaN  \n",
       "max            NaN  \n",
       "\n",
       "[8 rows x 26 columns]"
      ]
     },
     "execution_count": 739,
     "metadata": {},
     "output_type": "execute_result"
    }
   ],
   "source": [
    "dataset.describe()"
   ]
  },
  {
   "cell_type": "markdown",
   "metadata": {},
   "source": [
    "# Cleaning and preprocessing:"
   ]
  },
  {
   "cell_type": "markdown",
   "metadata": {},
   "source": [
    "### First we Will drop the rows only if all of the values in the row are missing:"
   ]
  },
  {
   "cell_type": "code",
   "execution_count": 740,
   "metadata": {},
   "outputs": [],
   "source": [
    "dataset.dropna(how = 'all',inplace = True)"
   ]
  },
  {
   "cell_type": "code",
   "execution_count": 741,
   "metadata": {},
   "outputs": [
    {
     "data": {
      "text/plain": [
       "(5118, 34)"
      ]
     },
     "execution_count": 741,
     "metadata": {},
     "output_type": "execute_result"
    }
   ],
   "source": [
    "dataset.shape"
   ]
  },
  {
   "cell_type": "markdown",
   "metadata": {},
   "source": [
    "# Handling the missing data\n",
    "### Drop uneeded colmuns and columns with full null values more than 60%:"
   ]
  },
  {
   "cell_type": "code",
   "execution_count": 742,
   "metadata": {},
   "outputs": [
    {
     "data": {
      "text/html": [
       "<div>\n",
       "<style scoped>\n",
       "    .dataframe tbody tr th:only-of-type {\n",
       "        vertical-align: middle;\n",
       "    }\n",
       "\n",
       "    .dataframe tbody tr th {\n",
       "        vertical-align: top;\n",
       "    }\n",
       "\n",
       "    .dataframe thead th {\n",
       "        text-align: right;\n",
       "    }\n",
       "</style>\n",
       "<table border=\"1\" class=\"dataframe\">\n",
       "  <thead>\n",
       "    <tr style=\"text-align: right;\">\n",
       "      <th></th>\n",
       "      <th>Transmission</th>\n",
       "      <th>Engine Capacity</th>\n",
       "      <th>Fuel Type</th>\n",
       "      <th>Metric Urban (Cold)</th>\n",
       "      <th>Metric Extra-Urban</th>\n",
       "      <th>Metric Combined</th>\n",
       "      <th>Imperial Urban (Cold)</th>\n",
       "      <th>Imperial Extra-Urban</th>\n",
       "      <th>Imperial Combined</th>\n",
       "      <th>CO2 g/km</th>\n",
       "      <th>Fuel Cost 12000 Miles</th>\n",
       "      <th>Total cost / 12000 miles</th>\n",
       "      <th>Euro Standard</th>\n",
       "      <th>Noise Level dB(A)</th>\n",
       "      <th>Emissions CO [mg/km]</th>\n",
       "      <th>Emissions NOx [mg/km]</th>\n",
       "    </tr>\n",
       "  </thead>\n",
       "  <tbody>\n",
       "    <tr>\n",
       "      <td>0</td>\n",
       "      <td>M5</td>\n",
       "      <td>1248.0</td>\n",
       "      <td>Diesel</td>\n",
       "      <td>4.3</td>\n",
       "      <td>2.9</td>\n",
       "      <td>3.4</td>\n",
       "      <td>65.7</td>\n",
       "      <td>97.4</td>\n",
       "      <td>83.1</td>\n",
       "      <td>89</td>\n",
       "      <td>£807</td>\n",
       "      <td>£807</td>\n",
       "      <td>6</td>\n",
       "      <td>67.5</td>\n",
       "      <td>234.0</td>\n",
       "      <td>67.0</td>\n",
       "    </tr>\n",
       "    <tr>\n",
       "      <td>1</td>\n",
       "      <td>M6</td>\n",
       "      <td>1496.0</td>\n",
       "      <td>Diesel</td>\n",
       "      <td>3.9</td>\n",
       "      <td>3.1</td>\n",
       "      <td>3.4</td>\n",
       "      <td>72.4</td>\n",
       "      <td>91.1</td>\n",
       "      <td>83.1</td>\n",
       "      <td>89</td>\n",
       "      <td>£807</td>\n",
       "      <td>£807</td>\n",
       "      <td>6</td>\n",
       "      <td>68.0</td>\n",
       "      <td>119.0</td>\n",
       "      <td>37.0</td>\n",
       "    </tr>\n",
       "    <tr>\n",
       "      <td>2</td>\n",
       "      <td>M6</td>\n",
       "      <td>1496.0</td>\n",
       "      <td>Diesel</td>\n",
       "      <td>3.9</td>\n",
       "      <td>3.1</td>\n",
       "      <td>3.4</td>\n",
       "      <td>72.4</td>\n",
       "      <td>91.1</td>\n",
       "      <td>83.1</td>\n",
       "      <td>89</td>\n",
       "      <td>£807</td>\n",
       "      <td>£807</td>\n",
       "      <td>6</td>\n",
       "      <td>68.0</td>\n",
       "      <td>119.0</td>\n",
       "      <td>37.0</td>\n",
       "    </tr>\n",
       "    <tr>\n",
       "      <td>3</td>\n",
       "      <td>M5</td>\n",
       "      <td>1560.0</td>\n",
       "      <td>Diesel</td>\n",
       "      <td>3.7</td>\n",
       "      <td>3.1</td>\n",
       "      <td>3.3</td>\n",
       "      <td>76.3</td>\n",
       "      <td>91.1</td>\n",
       "      <td>85.6</td>\n",
       "      <td>86</td>\n",
       "      <td>£784</td>\n",
       "      <td>£784</td>\n",
       "      <td>6</td>\n",
       "      <td>68.8</td>\n",
       "      <td>272.0</td>\n",
       "      <td>55.0</td>\n",
       "    </tr>\n",
       "    <tr>\n",
       "      <td>4</td>\n",
       "      <td>AMT6</td>\n",
       "      <td>1560.0</td>\n",
       "      <td>Diesel</td>\n",
       "      <td>3.9</td>\n",
       "      <td>3.2</td>\n",
       "      <td>3.4</td>\n",
       "      <td>72.4</td>\n",
       "      <td>88.3</td>\n",
       "      <td>83.1</td>\n",
       "      <td>89</td>\n",
       "      <td>£807</td>\n",
       "      <td>£807</td>\n",
       "      <td>6</td>\n",
       "      <td>69.2</td>\n",
       "      <td>185.0</td>\n",
       "      <td>40.0</td>\n",
       "    </tr>\n",
       "  </tbody>\n",
       "</table>\n",
       "</div>"
      ],
      "text/plain": [
       "  Transmission  Engine Capacity Fuel Type  Metric Urban (Cold)  \\\n",
       "0           M5           1248.0    Diesel                  4.3   \n",
       "1           M6           1496.0    Diesel                  3.9   \n",
       "2           M6           1496.0    Diesel                  3.9   \n",
       "3           M5           1560.0    Diesel                  3.7   \n",
       "4         AMT6           1560.0    Diesel                  3.9   \n",
       "\n",
       "   Metric Extra-Urban  Metric Combined  Imperial Urban (Cold)  \\\n",
       "0                 2.9              3.4                   65.7   \n",
       "1                 3.1              3.4                   72.4   \n",
       "2                 3.1              3.4                   72.4   \n",
       "3                 3.1              3.3                   76.3   \n",
       "4                 3.2              3.4                   72.4   \n",
       "\n",
       "   Imperial Extra-Urban  Imperial Combined  CO2 g/km Fuel Cost 12000 Miles  \\\n",
       "0                  97.4               83.1        89                  £807   \n",
       "1                  91.1               83.1        89                  £807   \n",
       "2                  91.1               83.1        89                  £807   \n",
       "3                  91.1               85.6        86                  £784   \n",
       "4                  88.3               83.1        89                  £807   \n",
       "\n",
       "  Total cost / 12000 miles  Euro Standard  Noise Level dB(A)  \\\n",
       "0                     £807              6               67.5   \n",
       "1                     £807              6               68.0   \n",
       "2                     £807              6               68.0   \n",
       "3                     £784              6               68.8   \n",
       "4                     £807              6               69.2   \n",
       "\n",
       "   Emissions CO [mg/km]  Emissions NOx [mg/km]  \n",
       "0                 234.0                   67.0  \n",
       "1                 119.0                   37.0  \n",
       "2                 119.0                   37.0  \n",
       "3                 272.0                   55.0  \n",
       "4                 185.0                   40.0  "
      ]
     },
     "execution_count": 742,
     "metadata": {},
     "output_type": "execute_result"
    }
   ],
   "source": [
    "#we wiil drop columns which have null values\n",
    "dataset=dataset.iloc[:,:25]\n",
    "dataset.drop(['Electric energy consumption Miles/kWh','wh/km','Maximum range (Km)','Maximum range (Miles)','Description','Electricity cost','THC Emissions [mg/km]','Manufacturer','Model'] ,inplace=True, axis=1)\n",
    "dataset.head()"
   ]
  },
  {
   "cell_type": "code",
   "execution_count": 743,
   "metadata": {},
   "outputs": [
    {
     "name": "stdout",
     "output_type": "stream",
     "text": [
      "5037 81\n"
     ]
    }
   ],
   "source": [
    "s=0\n",
    "j=0\n",
    "for i in range (0,5118,1):\n",
    "    \n",
    "    if dataset.loc[i,'Fuel Cost 12000 Miles']==dataset.loc[i,'Total cost / 12000 miles']:\n",
    "        s+=1\n",
    "    else:\n",
    "        j+=1\n",
    "        \n",
    "print(s,j)        "
   ]
  },
  {
   "cell_type": "code",
   "execution_count": 744,
   "metadata": {},
   "outputs": [],
   "source": [
    "dataset.drop(['Fuel Cost 12000 Miles'],inplace=True, axis=1)"
   ]
  },
  {
   "cell_type": "code",
   "execution_count": 745,
   "metadata": {},
   "outputs": [],
   "source": [
    "#deleting '£' from column (Total cost / 12000 miles) \n",
    "for i in range (0,5118,1):\n",
    "    dataset.loc[i,'Total cost / 12000 miles']=dataset.loc[i,'Total cost / 12000 miles'][1:]\n",
    "#deleting ',' from column (Total cost / 12000 miles) and convert object to string\n",
    "\n",
    "dataset['Total cost / 12000 miles'] = dataset['Total cost / 12000 miles'].str.replace(\",\",\"\").astype(float)"
   ]
  },
  {
   "cell_type": "code",
   "execution_count": 746,
   "metadata": {},
   "outputs": [
    {
     "data": {
      "text/html": [
       "<div>\n",
       "<style scoped>\n",
       "    .dataframe tbody tr th:only-of-type {\n",
       "        vertical-align: middle;\n",
       "    }\n",
       "\n",
       "    .dataframe tbody tr th {\n",
       "        vertical-align: top;\n",
       "    }\n",
       "\n",
       "    .dataframe thead th {\n",
       "        text-align: right;\n",
       "    }\n",
       "</style>\n",
       "<table border=\"1\" class=\"dataframe\">\n",
       "  <thead>\n",
       "    <tr style=\"text-align: right;\">\n",
       "      <th></th>\n",
       "      <th>Transmission</th>\n",
       "      <th>Engine Capacity</th>\n",
       "      <th>Fuel Type</th>\n",
       "      <th>Metric Urban (Cold)</th>\n",
       "      <th>Metric Extra-Urban</th>\n",
       "      <th>Metric Combined</th>\n",
       "      <th>Imperial Urban (Cold)</th>\n",
       "      <th>Imperial Extra-Urban</th>\n",
       "      <th>Imperial Combined</th>\n",
       "      <th>CO2 g/km</th>\n",
       "      <th>Total cost / 12000 miles</th>\n",
       "      <th>Euro Standard</th>\n",
       "      <th>Noise Level dB(A)</th>\n",
       "      <th>Emissions CO [mg/km]</th>\n",
       "      <th>Emissions NOx [mg/km]</th>\n",
       "    </tr>\n",
       "  </thead>\n",
       "  <tbody>\n",
       "    <tr>\n",
       "      <td>0</td>\n",
       "      <td>M5</td>\n",
       "      <td>1248.0</td>\n",
       "      <td>Diesel</td>\n",
       "      <td>4.3</td>\n",
       "      <td>2.9</td>\n",
       "      <td>3.4</td>\n",
       "      <td>65.7</td>\n",
       "      <td>97.4</td>\n",
       "      <td>83.1</td>\n",
       "      <td>89</td>\n",
       "      <td>807.0</td>\n",
       "      <td>6</td>\n",
       "      <td>67.5</td>\n",
       "      <td>234.0</td>\n",
       "      <td>67.0</td>\n",
       "    </tr>\n",
       "    <tr>\n",
       "      <td>1</td>\n",
       "      <td>M6</td>\n",
       "      <td>1496.0</td>\n",
       "      <td>Diesel</td>\n",
       "      <td>3.9</td>\n",
       "      <td>3.1</td>\n",
       "      <td>3.4</td>\n",
       "      <td>72.4</td>\n",
       "      <td>91.1</td>\n",
       "      <td>83.1</td>\n",
       "      <td>89</td>\n",
       "      <td>807.0</td>\n",
       "      <td>6</td>\n",
       "      <td>68.0</td>\n",
       "      <td>119.0</td>\n",
       "      <td>37.0</td>\n",
       "    </tr>\n",
       "    <tr>\n",
       "      <td>2</td>\n",
       "      <td>M6</td>\n",
       "      <td>1496.0</td>\n",
       "      <td>Diesel</td>\n",
       "      <td>3.9</td>\n",
       "      <td>3.1</td>\n",
       "      <td>3.4</td>\n",
       "      <td>72.4</td>\n",
       "      <td>91.1</td>\n",
       "      <td>83.1</td>\n",
       "      <td>89</td>\n",
       "      <td>807.0</td>\n",
       "      <td>6</td>\n",
       "      <td>68.0</td>\n",
       "      <td>119.0</td>\n",
       "      <td>37.0</td>\n",
       "    </tr>\n",
       "    <tr>\n",
       "      <td>3</td>\n",
       "      <td>M5</td>\n",
       "      <td>1560.0</td>\n",
       "      <td>Diesel</td>\n",
       "      <td>3.7</td>\n",
       "      <td>3.1</td>\n",
       "      <td>3.3</td>\n",
       "      <td>76.3</td>\n",
       "      <td>91.1</td>\n",
       "      <td>85.6</td>\n",
       "      <td>86</td>\n",
       "      <td>784.0</td>\n",
       "      <td>6</td>\n",
       "      <td>68.8</td>\n",
       "      <td>272.0</td>\n",
       "      <td>55.0</td>\n",
       "    </tr>\n",
       "    <tr>\n",
       "      <td>4</td>\n",
       "      <td>AMT6</td>\n",
       "      <td>1560.0</td>\n",
       "      <td>Diesel</td>\n",
       "      <td>3.9</td>\n",
       "      <td>3.2</td>\n",
       "      <td>3.4</td>\n",
       "      <td>72.4</td>\n",
       "      <td>88.3</td>\n",
       "      <td>83.1</td>\n",
       "      <td>89</td>\n",
       "      <td>807.0</td>\n",
       "      <td>6</td>\n",
       "      <td>69.2</td>\n",
       "      <td>185.0</td>\n",
       "      <td>40.0</td>\n",
       "    </tr>\n",
       "  </tbody>\n",
       "</table>\n",
       "</div>"
      ],
      "text/plain": [
       "  Transmission  Engine Capacity Fuel Type  Metric Urban (Cold)  \\\n",
       "0           M5           1248.0    Diesel                  4.3   \n",
       "1           M6           1496.0    Diesel                  3.9   \n",
       "2           M6           1496.0    Diesel                  3.9   \n",
       "3           M5           1560.0    Diesel                  3.7   \n",
       "4         AMT6           1560.0    Diesel                  3.9   \n",
       "\n",
       "   Metric Extra-Urban  Metric Combined  Imperial Urban (Cold)  \\\n",
       "0                 2.9              3.4                   65.7   \n",
       "1                 3.1              3.4                   72.4   \n",
       "2                 3.1              3.4                   72.4   \n",
       "3                 3.1              3.3                   76.3   \n",
       "4                 3.2              3.4                   72.4   \n",
       "\n",
       "   Imperial Extra-Urban  Imperial Combined  CO2 g/km  \\\n",
       "0                  97.4               83.1        89   \n",
       "1                  91.1               83.1        89   \n",
       "2                  91.1               83.1        89   \n",
       "3                  91.1               85.6        86   \n",
       "4                  88.3               83.1        89   \n",
       "\n",
       "   Total cost / 12000 miles  Euro Standard  Noise Level dB(A)  \\\n",
       "0                     807.0              6               67.5   \n",
       "1                     807.0              6               68.0   \n",
       "2                     807.0              6               68.0   \n",
       "3                     784.0              6               68.8   \n",
       "4                     807.0              6               69.2   \n",
       "\n",
       "   Emissions CO [mg/km]  Emissions NOx [mg/km]  \n",
       "0                 234.0                   67.0  \n",
       "1                 119.0                   37.0  \n",
       "2                 119.0                   37.0  \n",
       "3                 272.0                   55.0  \n",
       "4                 185.0                   40.0  "
      ]
     },
     "execution_count": 746,
     "metadata": {},
     "output_type": "execute_result"
    }
   ],
   "source": [
    "dataset.head()"
   ]
  },
  {
   "cell_type": "markdown",
   "metadata": {},
   "source": [
    "## Handling the missing data\n",
    "### we have two options : \n",
    "###    1. remove the row \n",
    "###    2. replace it by the mean"
   ]
  },
  {
   "cell_type": "code",
   "execution_count": 747,
   "metadata": {},
   "outputs": [
    {
     "data": {
      "text/plain": [
       "Transmission                32\n",
       "Engine Capacity             30\n",
       "Fuel Type                    0\n",
       "Metric Urban (Cold)         81\n",
       "Metric Extra-Urban          81\n",
       "Metric Combined             30\n",
       "Imperial Urban (Cold)       81\n",
       "Imperial Extra-Urban        81\n",
       "Imperial Combined           30\n",
       "CO2 g/km                     0\n",
       "Total cost / 12000 miles     0\n",
       "Euro Standard                0\n",
       "Noise Level dB(A)            0\n",
       "Emissions CO [mg/km]        30\n",
       "Emissions NOx [mg/km]       30\n",
       "dtype: int64"
      ]
     },
     "execution_count": 747,
     "metadata": {},
     "output_type": "execute_result"
    }
   ],
   "source": [
    "dataset.isna().sum()"
   ]
  },
  {
   "cell_type": "code",
   "execution_count": 748,
   "metadata": {},
   "outputs": [],
   "source": [
    "###  replace it by the mean \n",
    "dataset=dataset.fillna(dataset.mean()) \n"
   ]
  },
  {
   "cell_type": "code",
   "execution_count": 749,
   "metadata": {},
   "outputs": [
    {
     "data": {
      "text/plain": [
       "Transmission                32\n",
       "Engine Capacity              0\n",
       "Fuel Type                    0\n",
       "Metric Urban (Cold)          0\n",
       "Metric Extra-Urban           0\n",
       "Metric Combined              0\n",
       "Imperial Urban (Cold)        0\n",
       "Imperial Extra-Urban         0\n",
       "Imperial Combined            0\n",
       "CO2 g/km                     0\n",
       "Total cost / 12000 miles     0\n",
       "Euro Standard                0\n",
       "Noise Level dB(A)            0\n",
       "Emissions CO [mg/km]         0\n",
       "Emissions NOx [mg/km]        0\n",
       "dtype: int64"
      ]
     },
     "execution_count": 749,
     "metadata": {},
     "output_type": "execute_result"
    }
   ],
   "source": [
    "dataset.isna().sum()"
   ]
  },
  {
   "cell_type": "markdown",
   "metadata": {},
   "source": [
    "## now we have the last nan values from Transmission by filling them with the common value of the column:"
   ]
  },
  {
   "cell_type": "code",
   "execution_count": 750,
   "metadata": {},
   "outputs": [],
   "source": [
    "dataset['Transmission'].fillna(method='ffill', inplace=True)"
   ]
  },
  {
   "cell_type": "markdown",
   "metadata": {},
   "source": [
    "### check nulls again:"
   ]
  },
  {
   "cell_type": "code",
   "execution_count": 751,
   "metadata": {},
   "outputs": [
    {
     "data": {
      "text/plain": [
       "Transmission                0\n",
       "Engine Capacity             0\n",
       "Fuel Type                   0\n",
       "Metric Urban (Cold)         0\n",
       "Metric Extra-Urban          0\n",
       "Metric Combined             0\n",
       "Imperial Urban (Cold)       0\n",
       "Imperial Extra-Urban        0\n",
       "Imperial Combined           0\n",
       "CO2 g/km                    0\n",
       "Total cost / 12000 miles    0\n",
       "Euro Standard               0\n",
       "Noise Level dB(A)           0\n",
       "Emissions CO [mg/km]        0\n",
       "Emissions NOx [mg/km]       0\n",
       "dtype: int64"
      ]
     },
     "execution_count": 751,
     "metadata": {},
     "output_type": "execute_result"
    }
   ],
   "source": [
    "dataset.isna().sum()"
   ]
  },
  {
   "cell_type": "markdown",
   "metadata": {},
   "source": [
    "## now we need to seperate the dependant and independent variables"
   ]
  },
  {
   "cell_type": "code",
   "execution_count": 752,
   "metadata": {},
   "outputs": [],
   "source": [
    "features_matrix=dataset.drop(['Emissions NOx [mg/km]','Emissions CO [mg/km]'],axis=1)\n",
    "goal_matrix=dataset.loc[:,['Emissions NOx [mg/km]','Emissions CO [mg/km]']]"
   ]
  },
  {
   "cell_type": "code",
   "execution_count": 753,
   "metadata": {},
   "outputs": [
    {
     "data": {
      "text/html": [
       "<div>\n",
       "<style scoped>\n",
       "    .dataframe tbody tr th:only-of-type {\n",
       "        vertical-align: middle;\n",
       "    }\n",
       "\n",
       "    .dataframe tbody tr th {\n",
       "        vertical-align: top;\n",
       "    }\n",
       "\n",
       "    .dataframe thead th {\n",
       "        text-align: right;\n",
       "    }\n",
       "</style>\n",
       "<table border=\"1\" class=\"dataframe\">\n",
       "  <thead>\n",
       "    <tr style=\"text-align: right;\">\n",
       "      <th></th>\n",
       "      <th>Transmission</th>\n",
       "      <th>Engine Capacity</th>\n",
       "      <th>Fuel Type</th>\n",
       "      <th>Metric Urban (Cold)</th>\n",
       "      <th>Metric Extra-Urban</th>\n",
       "      <th>Metric Combined</th>\n",
       "      <th>Imperial Urban (Cold)</th>\n",
       "      <th>Imperial Extra-Urban</th>\n",
       "      <th>Imperial Combined</th>\n",
       "      <th>CO2 g/km</th>\n",
       "      <th>Total cost / 12000 miles</th>\n",
       "      <th>Euro Standard</th>\n",
       "      <th>Noise Level dB(A)</th>\n",
       "    </tr>\n",
       "  </thead>\n",
       "  <tbody>\n",
       "    <tr>\n",
       "      <td>0</td>\n",
       "      <td>M5</td>\n",
       "      <td>1248.0</td>\n",
       "      <td>Diesel</td>\n",
       "      <td>4.3</td>\n",
       "      <td>2.9</td>\n",
       "      <td>3.4</td>\n",
       "      <td>65.7</td>\n",
       "      <td>97.4</td>\n",
       "      <td>83.1</td>\n",
       "      <td>89</td>\n",
       "      <td>807.0</td>\n",
       "      <td>6</td>\n",
       "      <td>67.5</td>\n",
       "    </tr>\n",
       "    <tr>\n",
       "      <td>1</td>\n",
       "      <td>M6</td>\n",
       "      <td>1496.0</td>\n",
       "      <td>Diesel</td>\n",
       "      <td>3.9</td>\n",
       "      <td>3.1</td>\n",
       "      <td>3.4</td>\n",
       "      <td>72.4</td>\n",
       "      <td>91.1</td>\n",
       "      <td>83.1</td>\n",
       "      <td>89</td>\n",
       "      <td>807.0</td>\n",
       "      <td>6</td>\n",
       "      <td>68.0</td>\n",
       "    </tr>\n",
       "    <tr>\n",
       "      <td>2</td>\n",
       "      <td>M6</td>\n",
       "      <td>1496.0</td>\n",
       "      <td>Diesel</td>\n",
       "      <td>3.9</td>\n",
       "      <td>3.1</td>\n",
       "      <td>3.4</td>\n",
       "      <td>72.4</td>\n",
       "      <td>91.1</td>\n",
       "      <td>83.1</td>\n",
       "      <td>89</td>\n",
       "      <td>807.0</td>\n",
       "      <td>6</td>\n",
       "      <td>68.0</td>\n",
       "    </tr>\n",
       "    <tr>\n",
       "      <td>3</td>\n",
       "      <td>M5</td>\n",
       "      <td>1560.0</td>\n",
       "      <td>Diesel</td>\n",
       "      <td>3.7</td>\n",
       "      <td>3.1</td>\n",
       "      <td>3.3</td>\n",
       "      <td>76.3</td>\n",
       "      <td>91.1</td>\n",
       "      <td>85.6</td>\n",
       "      <td>86</td>\n",
       "      <td>784.0</td>\n",
       "      <td>6</td>\n",
       "      <td>68.8</td>\n",
       "    </tr>\n",
       "    <tr>\n",
       "      <td>4</td>\n",
       "      <td>AMT6</td>\n",
       "      <td>1560.0</td>\n",
       "      <td>Diesel</td>\n",
       "      <td>3.9</td>\n",
       "      <td>3.2</td>\n",
       "      <td>3.4</td>\n",
       "      <td>72.4</td>\n",
       "      <td>88.3</td>\n",
       "      <td>83.1</td>\n",
       "      <td>89</td>\n",
       "      <td>807.0</td>\n",
       "      <td>6</td>\n",
       "      <td>69.2</td>\n",
       "    </tr>\n",
       "    <tr>\n",
       "      <td>...</td>\n",
       "      <td>...</td>\n",
       "      <td>...</td>\n",
       "      <td>...</td>\n",
       "      <td>...</td>\n",
       "      <td>...</td>\n",
       "      <td>...</td>\n",
       "      <td>...</td>\n",
       "      <td>...</td>\n",
       "      <td>...</td>\n",
       "      <td>...</td>\n",
       "      <td>...</td>\n",
       "      <td>...</td>\n",
       "      <td>...</td>\n",
       "    </tr>\n",
       "    <tr>\n",
       "      <td>5113</td>\n",
       "      <td>E-CVT</td>\n",
       "      <td>3456.0</td>\n",
       "      <td>Petrol Hybrid</td>\n",
       "      <td>7.3</td>\n",
       "      <td>6.0</td>\n",
       "      <td>6.5</td>\n",
       "      <td>38.7</td>\n",
       "      <td>47.1</td>\n",
       "      <td>43.5</td>\n",
       "      <td>148</td>\n",
       "      <td>1505.0</td>\n",
       "      <td>6</td>\n",
       "      <td>67.0</td>\n",
       "    </tr>\n",
       "    <tr>\n",
       "      <td>5114</td>\n",
       "      <td>E-CVT</td>\n",
       "      <td>3456.0</td>\n",
       "      <td>Petrol Hybrid</td>\n",
       "      <td>7.3</td>\n",
       "      <td>6.0</td>\n",
       "      <td>6.5</td>\n",
       "      <td>38.7</td>\n",
       "      <td>47.1</td>\n",
       "      <td>43.5</td>\n",
       "      <td>148</td>\n",
       "      <td>1505.0</td>\n",
       "      <td>6</td>\n",
       "      <td>67.0</td>\n",
       "    </tr>\n",
       "    <tr>\n",
       "      <td>5115</td>\n",
       "      <td>A7</td>\n",
       "      <td>3498.0</td>\n",
       "      <td>Petrol Hybrid</td>\n",
       "      <td>9.6</td>\n",
       "      <td>5.3</td>\n",
       "      <td>6.8</td>\n",
       "      <td>29.4</td>\n",
       "      <td>53.3</td>\n",
       "      <td>41.5</td>\n",
       "      <td>159</td>\n",
       "      <td>1577.0</td>\n",
       "      <td>6</td>\n",
       "      <td>69.0</td>\n",
       "    </tr>\n",
       "    <tr>\n",
       "      <td>5116</td>\n",
       "      <td>E-CVT</td>\n",
       "      <td>1998.0</td>\n",
       "      <td>Petrol Hybrid</td>\n",
       "      <td>9.6</td>\n",
       "      <td>5.9</td>\n",
       "      <td>7.3</td>\n",
       "      <td>29.4</td>\n",
       "      <td>47.9</td>\n",
       "      <td>38.7</td>\n",
       "      <td>168</td>\n",
       "      <td>1692.0</td>\n",
       "      <td>6</td>\n",
       "      <td>70.0</td>\n",
       "    </tr>\n",
       "    <tr>\n",
       "      <td>5117</td>\n",
       "      <td>E-CVT</td>\n",
       "      <td>1998.0</td>\n",
       "      <td>Petrol Hybrid</td>\n",
       "      <td>9.6</td>\n",
       "      <td>5.9</td>\n",
       "      <td>7.3</td>\n",
       "      <td>29.4</td>\n",
       "      <td>47.9</td>\n",
       "      <td>38.7</td>\n",
       "      <td>168</td>\n",
       "      <td>1692.0</td>\n",
       "      <td>6</td>\n",
       "      <td>70.0</td>\n",
       "    </tr>\n",
       "  </tbody>\n",
       "</table>\n",
       "<p>5118 rows × 13 columns</p>\n",
       "</div>"
      ],
      "text/plain": [
       "     Transmission  Engine Capacity      Fuel Type  Metric Urban (Cold)  \\\n",
       "0              M5           1248.0         Diesel                  4.3   \n",
       "1              M6           1496.0         Diesel                  3.9   \n",
       "2              M6           1496.0         Diesel                  3.9   \n",
       "3              M5           1560.0         Diesel                  3.7   \n",
       "4            AMT6           1560.0         Diesel                  3.9   \n",
       "...           ...              ...            ...                  ...   \n",
       "5113        E-CVT           3456.0  Petrol Hybrid                  7.3   \n",
       "5114        E-CVT           3456.0  Petrol Hybrid                  7.3   \n",
       "5115           A7           3498.0  Petrol Hybrid                  9.6   \n",
       "5116        E-CVT           1998.0  Petrol Hybrid                  9.6   \n",
       "5117        E-CVT           1998.0  Petrol Hybrid                  9.6   \n",
       "\n",
       "      Metric Extra-Urban  Metric Combined  Imperial Urban (Cold)  \\\n",
       "0                    2.9              3.4                   65.7   \n",
       "1                    3.1              3.4                   72.4   \n",
       "2                    3.1              3.4                   72.4   \n",
       "3                    3.1              3.3                   76.3   \n",
       "4                    3.2              3.4                   72.4   \n",
       "...                  ...              ...                    ...   \n",
       "5113                 6.0              6.5                   38.7   \n",
       "5114                 6.0              6.5                   38.7   \n",
       "5115                 5.3              6.8                   29.4   \n",
       "5116                 5.9              7.3                   29.4   \n",
       "5117                 5.9              7.3                   29.4   \n",
       "\n",
       "      Imperial Extra-Urban  Imperial Combined  CO2 g/km  \\\n",
       "0                     97.4               83.1        89   \n",
       "1                     91.1               83.1        89   \n",
       "2                     91.1               83.1        89   \n",
       "3                     91.1               85.6        86   \n",
       "4                     88.3               83.1        89   \n",
       "...                    ...                ...       ...   \n",
       "5113                  47.1               43.5       148   \n",
       "5114                  47.1               43.5       148   \n",
       "5115                  53.3               41.5       159   \n",
       "5116                  47.9               38.7       168   \n",
       "5117                  47.9               38.7       168   \n",
       "\n",
       "      Total cost / 12000 miles  Euro Standard  Noise Level dB(A)  \n",
       "0                        807.0              6               67.5  \n",
       "1                        807.0              6               68.0  \n",
       "2                        807.0              6               68.0  \n",
       "3                        784.0              6               68.8  \n",
       "4                        807.0              6               69.2  \n",
       "...                        ...            ...                ...  \n",
       "5113                    1505.0              6               67.0  \n",
       "5114                    1505.0              6               67.0  \n",
       "5115                    1577.0              6               69.0  \n",
       "5116                    1692.0              6               70.0  \n",
       "5117                    1692.0              6               70.0  \n",
       "\n",
       "[5118 rows x 13 columns]"
      ]
     },
     "execution_count": 753,
     "metadata": {},
     "output_type": "execute_result"
    }
   ],
   "source": [
    "features_matrix"
   ]
  },
  {
   "cell_type": "markdown",
   "metadata": {},
   "source": [
    "## Handling Categorical Data \n",
    "### models prefer to deal with numbers rather than words if possible, that's what we are going to do now "
   ]
  },
  {
   "cell_type": "code",
   "execution_count": 754,
   "metadata": {},
   "outputs": [],
   "source": [
    "# import the needed librarys\n",
    "from sklearn.preprocessing import LabelEncoder\n",
    "encoder = LabelEncoder()\n",
    "features_matrix['Transmission'] = encoder.fit_transform(features_matrix['Transmission'])"
   ]
  },
  {
   "cell_type": "code",
   "execution_count": 755,
   "metadata": {},
   "outputs": [],
   "source": [
    "encoder = LabelEncoder()\n",
    "features_matrix['Fuel Type'] = encoder.fit_transform(features_matrix['Fuel Type'])"
   ]
  },
  {
   "cell_type": "code",
   "execution_count": 756,
   "metadata": {},
   "outputs": [],
   "source": [
    "#from sklearn.preprocessing import OneHotEncoder\n",
    "#hot_encoder=OneHotEncoder()\n",
    "#hot_encoder.fit_transform"
   ]
  },
  {
   "cell_type": "code",
   "execution_count": 757,
   "metadata": {},
   "outputs": [],
   "source": [
    "# import the oneHotEncoder class\n",
    "#from sklearn.preprocessing import OneHotEncoder\n",
    "#oneHotEncoder = OneHotEncoder(categorical_features=[0])\n",
    "#features_matrix= oneHotEncoder.fit_transform(features_matrix).toarray()\n",
    "#features_matrix[:, :3]"
   ]
  },
  {
   "cell_type": "markdown",
   "metadata": {},
   "source": [
    "## Now we need to split our data to train and test data .."
   ]
  },
  {
   "cell_type": "code",
   "execution_count": 758,
   "metadata": {},
   "outputs": [],
   "source": [
    "features_matrix=dataset[['Metric Extra-Urban']]"
   ]
  },
  {
   "cell_type": "code",
   "execution_count": 759,
   "metadata": {},
   "outputs": [],
   "source": [
    "# import the modules \n",
    "from sklearn.model_selection import train_test_split\n",
    "x_train, x_test, y_train, y_test = train_test_split(features_matrix, goal_matrix['Emissions NOx [mg/km]'], test_size = 0.2, random_state = 0)\n",
    "x_train2, x_test2, y_train2, y_test2 = train_test_split(features_matrix, goal_matrix['Emissions CO [mg/km]'], test_size = 0.2, random_state = 0)\n"
   ]
  },
  {
   "cell_type": "markdown",
   "metadata": {},
   "source": [
    "## It's better to scale/standardize our features value, so that they have the same scale"
   ]
  },
  {
   "cell_type": "markdown",
   "metadata": {},
   "source": [
    "# try with standard scaler"
   ]
  },
  {
   "cell_type": "code",
   "execution_count": 760,
   "metadata": {},
   "outputs": [],
   "source": [
    "# import the library we need from our beloved sklearn !\n",
    "from sklearn.preprocessing import StandardScaler\n",
    "scaler = StandardScaler()\n",
    "x_train = scaler.fit_transform(x_train)\n",
    "x_test = scaler.transform(x_test)\n",
    "x_train2 = scaler.fit_transform(x_train2)\n",
    "x_test2 = scaler.transform(x_test2)"
   ]
  },
  {
   "cell_type": "code",
   "execution_count": 761,
   "metadata": {},
   "outputs": [
    {
     "data": {
      "text/plain": [
       "LinearRegression(copy_X=True, fit_intercept=True, n_jobs=None, normalize=False)"
      ]
     },
     "execution_count": 761,
     "metadata": {},
     "output_type": "execute_result"
    }
   ],
   "source": [
    "from sklearn.linear_model import LinearRegression\n",
    "from sklearn.metrics import mean_squared_error\n",
    "\n",
    "model = LinearRegression()\n",
    "model.fit(x_train, y_train)\n",
    "model.fit(x_train2, y_train2)"
   ]
  },
  {
   "cell_type": "code",
   "execution_count": 762,
   "metadata": {},
   "outputs": [
    {
     "name": "stdout",
     "output_type": "stream",
     "text": [
      "51640.62539593175\n"
     ]
    },
    {
     "data": {
      "text/plain": [
       "-148.23119710904115"
      ]
     },
     "execution_count": 762,
     "metadata": {},
     "output_type": "execute_result"
    }
   ],
   "source": [
    "print(mean_squared_error(y_train, model.predict(x_train)))\n",
    "model.score(x_train, y_train)"
   ]
  },
  {
   "cell_type": "code",
   "execution_count": 763,
   "metadata": {},
   "outputs": [
    {
     "name": "stdout",
     "output_type": "stream",
     "text": [
      "18364.595557340486\n"
     ]
    },
    {
     "data": {
      "text/plain": [
       "0.06694281154525117"
      ]
     },
     "execution_count": 763,
     "metadata": {},
     "output_type": "execute_result"
    }
   ],
   "source": [
    "print(mean_squared_error(y_train2, model.predict(x_train2)))\n",
    "model.score(x_train2, y_train2)"
   ]
  },
  {
   "cell_type": "code",
   "execution_count": 764,
   "metadata": {},
   "outputs": [
    {
     "name": "stdout",
     "output_type": "stream",
     "text": [
      "8173.079382541427\n"
     ]
    },
    {
     "data": {
      "text/plain": [
       "-8.961760238996362"
      ]
     },
     "execution_count": 764,
     "metadata": {},
     "output_type": "execute_result"
    }
   ],
   "source": [
    "x_test = scaler.transform(x_test)\n",
    "print(mean_squared_error(y_test, model.predict(x_test)))\n",
    "model.score(x_test, y_test)"
   ]
  },
  {
   "cell_type": "code",
   "execution_count": 765,
   "metadata": {},
   "outputs": [
    {
     "name": "stdout",
     "output_type": "stream",
     "text": [
      "40814.97485637621\n"
     ]
    },
    {
     "data": {
      "text/plain": [
       "-1.0178237841705307"
      ]
     },
     "execution_count": 765,
     "metadata": {},
     "output_type": "execute_result"
    }
   ],
   "source": [
    "x_test2 = scaler.transform(x_test2)\n",
    "print(mean_squared_error(y_test2, model.predict(x_test2)))\n",
    "model.score(x_test2, y_test2)"
   ]
  },
  {
   "cell_type": "markdown",
   "metadata": {},
   "source": [
    "# try with Min-Max Scaler"
   ]
  },
  {
   "cell_type": "code",
   "execution_count": 766,
   "metadata": {},
   "outputs": [],
   "source": [
    "from sklearn.model_selection import train_test_split\n",
    "\n",
    "x_train, x_test, y_train, y_test = train_test_split(features_matrix, goal_matrix['Emissions NOx [mg/km]'], test_size=.2, random_state=0)\n",
    "x_train2, x_test2, y_train2, y_test2 = train_test_split(features_matrix, goal_matrix['Emissions CO [mg/km]'], test_size = 0.2, random_state = 0)\n",
    "\n",
    "from sklearn.preprocessing import MinMaxScaler\n",
    "scaler = MinMaxScaler()\n",
    "scaler.fit(x_train)\n",
    "x_train = scaler.transform(x_train)\n",
    "scaler.fit(x_train2)\n",
    "x_train2 = scaler.transform(x_train2)"
   ]
  },
  {
   "cell_type": "code",
   "execution_count": 767,
   "metadata": {},
   "outputs": [
    {
     "data": {
      "text/plain": [
       "LinearRegression(copy_X=True, fit_intercept=True, n_jobs=None, normalize=False)"
      ]
     },
     "execution_count": 767,
     "metadata": {},
     "output_type": "execute_result"
    }
   ],
   "source": [
    "from sklearn.linear_model import LinearRegression\n",
    "from sklearn.metrics import mean_squared_error\n",
    "\n",
    "model = LinearRegression()\n",
    "model.fit(x_train, y_train)\n",
    "model.fit(x_train2, y_train2)"
   ]
  },
  {
   "cell_type": "code",
   "execution_count": 768,
   "metadata": {},
   "outputs": [
    {
     "name": "stdout",
     "output_type": "stream",
     "text": [
      "51640.625395931726\n"
     ]
    },
    {
     "data": {
      "text/plain": [
       "-148.2311971090411"
      ]
     },
     "execution_count": 768,
     "metadata": {},
     "output_type": "execute_result"
    }
   ],
   "source": [
    "print(mean_squared_error(y_train, model.predict(x_train)))\n",
    "model.score(x_train, y_train)"
   ]
  },
  {
   "cell_type": "code",
   "execution_count": 769,
   "metadata": {},
   "outputs": [
    {
     "name": "stdout",
     "output_type": "stream",
     "text": [
      "18364.595557340483\n"
     ]
    },
    {
     "data": {
      "text/plain": [
       "0.06694281154525139"
      ]
     },
     "execution_count": 769,
     "metadata": {},
     "output_type": "execute_result"
    }
   ],
   "source": [
    "print(mean_squared_error(y_train2, model.predict(x_train2)))\n",
    "model.score(x_train2, y_train2)"
   ]
  },
  {
   "cell_type": "code",
   "execution_count": 770,
   "metadata": {},
   "outputs": [
    {
     "name": "stdout",
     "output_type": "stream",
     "text": [
      "52367.72637277434\n"
     ]
    },
    {
     "data": {
      "text/plain": [
       "-62.8284188822756"
      ]
     },
     "execution_count": 770,
     "metadata": {},
     "output_type": "execute_result"
    }
   ],
   "source": [
    "x_test = scaler.transform(x_test)\n",
    "print(mean_squared_error(y_test, model.predict(x_test)))\n",
    "model.score(x_test, y_test)"
   ]
  },
  {
   "cell_type": "code",
   "execution_count": 771,
   "metadata": {},
   "outputs": [
    {
     "name": "stdout",
     "output_type": "stream",
     "text": [
      "18409.44961329826\n"
     ]
    },
    {
     "data": {
      "text/plain": [
       "0.08986774060454883"
      ]
     },
     "execution_count": 771,
     "metadata": {},
     "output_type": "execute_result"
    }
   ],
   "source": [
    "x_test2 = scaler.transform(x_test2)\n",
    "print(mean_squared_error(y_test2, model.predict(x_test2)))\n",
    "model.score(x_test2, y_test2)"
   ]
  },
  {
   "cell_type": "markdown",
   "metadata": {},
   "source": [
    "# try without any scaler"
   ]
  },
  {
   "cell_type": "code",
   "execution_count": 772,
   "metadata": {},
   "outputs": [],
   "source": [
    "from sklearn.model_selection import train_test_split\n",
    "\n",
    "x_train, x_test, y_train, y_test = train_test_split(features_matrix, goal_matrix['Emissions NOx [mg/km]'], test_size=.2, random_state=0)\n",
    "x_train2, x_test2, y_train2, y_test2 = train_test_split(features_matrix, goal_matrix['Emissions CO [mg/km]'], test_size=.2, random_state=0)"
   ]
  },
  {
   "cell_type": "code",
   "execution_count": 773,
   "metadata": {},
   "outputs": [
    {
     "data": {
      "text/plain": [
       "LinearRegression(copy_X=True, fit_intercept=True, n_jobs=None, normalize=False)"
      ]
     },
     "execution_count": 773,
     "metadata": {},
     "output_type": "execute_result"
    }
   ],
   "source": [
    "model = LinearRegression()\n",
    "model.fit(x_train, y_train)\n",
    "model.fit(x_train2, y_train2)"
   ]
  },
  {
   "cell_type": "code",
   "execution_count": 774,
   "metadata": {},
   "outputs": [
    {
     "name": "stdout",
     "output_type": "stream",
     "text": [
      "51640.62539593173\n"
     ]
    },
    {
     "data": {
      "text/plain": [
       "-148.23119710904112"
      ]
     },
     "execution_count": 774,
     "metadata": {},
     "output_type": "execute_result"
    }
   ],
   "source": [
    "print(mean_squared_error(y_train, model.predict(x_train)))\n",
    "model.score(x_train, y_train)"
   ]
  },
  {
   "cell_type": "code",
   "execution_count": 775,
   "metadata": {},
   "outputs": [
    {
     "name": "stdout",
     "output_type": "stream",
     "text": [
      "18364.595557340483\n"
     ]
    },
    {
     "data": {
      "text/plain": [
       "0.06694281154525139"
      ]
     },
     "execution_count": 775,
     "metadata": {},
     "output_type": "execute_result"
    }
   ],
   "source": [
    "print(mean_squared_error(y_train2, model.predict(x_train2)))\n",
    "model.score(x_train2, y_train2)"
   ]
  },
  {
   "cell_type": "code",
   "execution_count": 776,
   "metadata": {},
   "outputs": [
    {
     "name": "stdout",
     "output_type": "stream",
     "text": [
      "52367.726372774356\n"
     ]
    },
    {
     "data": {
      "text/plain": [
       "-62.82841888227562"
      ]
     },
     "execution_count": 776,
     "metadata": {},
     "output_type": "execute_result"
    }
   ],
   "source": [
    "print(mean_squared_error(y_test, model.predict(x_test)))\n",
    "model.score(x_test, y_test)"
   ]
  },
  {
   "cell_type": "code",
   "execution_count": 777,
   "metadata": {},
   "outputs": [
    {
     "name": "stdout",
     "output_type": "stream",
     "text": [
      "18409.44961329826\n"
     ]
    },
    {
     "data": {
      "text/plain": [
       "0.08986774060454883"
      ]
     },
     "execution_count": 777,
     "metadata": {},
     "output_type": "execute_result"
    }
   ],
   "source": [
    "print(mean_squared_error(y_test2, model.predict(x_test2)))\n",
    "model.score(x_test2, y_test2)"
   ]
  },
  {
   "cell_type": "code",
   "execution_count": null,
   "metadata": {},
   "outputs": [],
   "source": []
  }
 ],
 "metadata": {
  "kernelspec": {
   "display_name": "Python 3",
   "language": "python",
   "name": "python3"
  },
  "language_info": {
   "codemirror_mode": {
    "name": "ipython",
    "version": 3
   },
   "file_extension": ".py",
   "mimetype": "text/x-python",
   "name": "python",
   "nbconvert_exporter": "python",
   "pygments_lexer": "ipython3",
   "version": "3.7.4"
  }
 },
 "nbformat": 4,
 "nbformat_minor": 2
}
